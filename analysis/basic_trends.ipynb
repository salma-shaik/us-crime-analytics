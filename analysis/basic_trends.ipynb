{
 "cells": [
  {
   "cell_type": "markdown",
   "metadata": {},
   "source": [
    "__Load required libraries__"
   ]
  },
  {
   "cell_type": "code",
   "execution_count": 20,
   "metadata": {},
   "outputs": [],
   "source": [
    "import pandas as pd\n",
    "\n",
    "from matplotlib import pyplot as plt\n",
    "import seaborn as sns\n",
    "sns.set()\n",
    "\n",
    "import matplotlib\n",
    "matplotlib.use(\"TkAgg\")"
   ]
  },
  {
   "cell_type": "markdown",
   "metadata": {},
   "source": [
    "__Read the initial core counts pop 1000 neg rplcd counts rates file__"
   ]
  },
  {
   "cell_type": "code",
   "execution_count": 16,
   "metadata": {},
   "outputs": [
    {
     "name": "stdout",
     "output_type": "stream",
     "text": [
      "['ORI', 'AGENCY', 'YEAR', 'Govt_level', 'POP100', 'White_count', 'Black_count', 'Hispanic_count', 'Pct_WYM', 'Pct_WYF', 'total_count_county', 'population', 'murder', 'rape', 'robbery', 'aggravated_assault', 'simple_assault', 'burglary', 'larceny', 'auto_theft', 'total_main_crime', 'violent_crime', 'property_crime', 'murder_tot_arrests', 'murder_tot_black', 'murder_tot_white', 'rape_tot_arrests', 'rape_tot_black', 'rape_tot_white', 'robbery_tot_arrests', 'robbery_tot_black', 'robbery_tot_white', 'agg_assault_tot_arrests', 'agg_assault_tot_white', 'agg_assault_tot_black', 'larceny_theft_arrests_tot', 'larceny_theft_arrests_black', 'larceny_theft_arrests_white', 'burglary_tot_arrests', 'burglary_tot_black', 'burglary_tot_white', 'mtr_veh_theft_tot_arrests', 'mtr_veh_theft_tot_black', 'mtr_veh_theft_tot_white', 'violent_arrests', 'property_arrests', 'total_main_arrests', 'sale_drug_total_tot_arrests', 'sale_drug_total_tot_black', 'sale_drug_total_tot_white', 'drug_total_arrests', 'drug_arrests_black', 'drug_arrests_white', 'poss_drug_total_tot_arrests', 'poss_drug_total_tot_black', 'poss_drug_total_tot_white', 'disorder_arrests_tot_index', 'disorder_arrests_black_index', 'disorder_arrests_white_index', 'total_officers', 'prison_occupancy_count', 'jail_occupancy_count', 'pci_white', 'pci_black', 'emp_total', 'emp_total_white', 'emp_total_black']\n"
     ]
    }
   ],
   "source": [
    "cnts_pc_df = pd.read_csv('/Users/salma/Research/us-crime-analytics/data/pre_analysis/initial_core_counts_pop_1000_neg_rplcd.csv')\n",
    "print(list(cnts_pc_df))"
   ]
  },
  {
   "cell_type": "markdown",
   "metadata": {},
   "source": [
    "__Group important variables by year and plot on the same line__"
   ]
  },
  {
   "cell_type": "code",
   "execution_count": null,
   "metadata": {},
   "outputs": [],
   "source": [
    "plt_var = cnts_pc_df.groupby(\"YEAR\")\n",
    "\n",
    "plt.plot(plt_var, label=\"violent_crime\")\n",
    "#ax = sns.lineplot(x=\"YEAR\", y=\"violent_crime\", data=plt_var)\n",
    "\n",
    "plt.legend()\n",
    "plt.title(\"Violent Crime Trend Over The Years\")\n",
    "plt.xlabel('YEAR')\n",
    "plt.ylabel('Violent Crime')\n",
    "plt.show()"
   ]
  },
  {
   "cell_type": "code",
   "execution_count": null,
   "metadata": {},
   "outputs": [],
   "source": []
  }
 ],
 "metadata": {
  "kernelspec": {
   "display_name": "Python 3",
   "language": "python",
   "name": "python3"
  },
  "language_info": {
   "codemirror_mode": {
    "name": "ipython",
    "version": 3
   },
   "file_extension": ".py",
   "mimetype": "text/x-python",
   "name": "python",
   "nbconvert_exporter": "python",
   "pygments_lexer": "ipython3",
   "version": "3.6.5"
  }
 },
 "nbformat": 4,
 "nbformat_minor": 2
}
